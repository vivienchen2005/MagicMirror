{
 "cells": [
  {
   "cell_type": "code",
   "execution_count": 23,
   "metadata": {},
   "outputs": [
    {
     "name": "stdout",
     "output_type": "stream",
     "text": [
      "Requirement already satisfied: mediapipe in c:\\users\\15rak\\documents\\magicmirror\\env\\lib\\site-packages (0.10.14)\n",
      "Requirement already satisfied: opencv-python in c:\\users\\15rak\\documents\\magicmirror\\env\\lib\\site-packages (4.10.0.84)\n",
      "Requirement already satisfied: absl-py in c:\\users\\15rak\\documents\\magicmirror\\env\\lib\\site-packages (from mediapipe) (2.1.0)\n",
      "Requirement already satisfied: attrs>=19.1.0 in c:\\users\\15rak\\documents\\magicmirror\\env\\lib\\site-packages (from mediapipe) (24.2.0)\n",
      "Requirement already satisfied: flatbuffers>=2.0 in c:\\users\\15rak\\documents\\magicmirror\\env\\lib\\site-packages (from mediapipe) (24.3.25)\n",
      "Requirement already satisfied: jax in c:\\users\\15rak\\documents\\magicmirror\\env\\lib\\site-packages (from mediapipe) (0.4.34)\n",
      "Requirement already satisfied: jaxlib in c:\\users\\15rak\\documents\\magicmirror\\env\\lib\\site-packages (from mediapipe) (0.4.34)\n",
      "Requirement already satisfied: matplotlib in c:\\users\\15rak\\documents\\magicmirror\\env\\lib\\site-packages (from mediapipe) (3.9.2)\n",
      "Requirement already satisfied: numpy in c:\\users\\15rak\\documents\\magicmirror\\env\\lib\\site-packages (from mediapipe) (2.1.2)\n",
      "Requirement already satisfied: opencv-contrib-python in c:\\users\\15rak\\documents\\magicmirror\\env\\lib\\site-packages (from mediapipe) (4.10.0.84)\n",
      "Requirement already satisfied: protobuf<5,>=4.25.3 in c:\\users\\15rak\\documents\\magicmirror\\env\\lib\\site-packages (from mediapipe) (4.25.5)\n",
      "Requirement already satisfied: sounddevice>=0.4.4 in c:\\users\\15rak\\documents\\magicmirror\\env\\lib\\site-packages (from mediapipe) (0.5.1)\n",
      "Requirement already satisfied: CFFI>=1.0 in c:\\users\\15rak\\documents\\magicmirror\\env\\lib\\site-packages (from sounddevice>=0.4.4->mediapipe) (1.17.1)\n",
      "Requirement already satisfied: ml-dtypes>=0.2.0 in c:\\users\\15rak\\documents\\magicmirror\\env\\lib\\site-packages (from jax->mediapipe) (0.5.0)\n",
      "Requirement already satisfied: opt-einsum in c:\\users\\15rak\\documents\\magicmirror\\env\\lib\\site-packages (from jax->mediapipe) (3.4.0)\n",
      "Requirement already satisfied: scipy>=1.10 in c:\\users\\15rak\\documents\\magicmirror\\env\\lib\\site-packages (from jax->mediapipe) (1.14.1)\n",
      "Requirement already satisfied: contourpy>=1.0.1 in c:\\users\\15rak\\documents\\magicmirror\\env\\lib\\site-packages (from matplotlib->mediapipe) (1.3.0)\n",
      "Requirement already satisfied: cycler>=0.10 in c:\\users\\15rak\\documents\\magicmirror\\env\\lib\\site-packages (from matplotlib->mediapipe) (0.12.1)\n",
      "Requirement already satisfied: fonttools>=4.22.0 in c:\\users\\15rak\\documents\\magicmirror\\env\\lib\\site-packages (from matplotlib->mediapipe) (4.54.1)\n",
      "Requirement already satisfied: kiwisolver>=1.3.1 in c:\\users\\15rak\\documents\\magicmirror\\env\\lib\\site-packages (from matplotlib->mediapipe) (1.4.7)\n",
      "Requirement already satisfied: packaging>=20.0 in c:\\users\\15rak\\documents\\magicmirror\\env\\lib\\site-packages (from matplotlib->mediapipe) (24.1)\n",
      "Requirement already satisfied: pillow>=8 in c:\\users\\15rak\\documents\\magicmirror\\env\\lib\\site-packages (from matplotlib->mediapipe) (10.4.0)\n",
      "Requirement already satisfied: pyparsing>=2.3.1 in c:\\users\\15rak\\documents\\magicmirror\\env\\lib\\site-packages (from matplotlib->mediapipe) (3.2.0)\n",
      "Requirement already satisfied: python-dateutil>=2.7 in c:\\users\\15rak\\documents\\magicmirror\\env\\lib\\site-packages (from matplotlib->mediapipe) (2.9.0.post0)\n",
      "Requirement already satisfied: pycparser in c:\\users\\15rak\\documents\\magicmirror\\env\\lib\\site-packages (from CFFI>=1.0->sounddevice>=0.4.4->mediapipe) (2.22)\n",
      "Requirement already satisfied: six>=1.5 in c:\\users\\15rak\\documents\\magicmirror\\env\\lib\\site-packages (from python-dateutil>=2.7->matplotlib->mediapipe) (1.16.0)\n",
      "Note: you may need to restart the kernel to use updated packages.\n"
     ]
    }
   ],
   "source": [
    "%pip install mediapipe opencv-python"
   ]
  },
  {
   "cell_type": "code",
   "execution_count": 1,
   "metadata": {},
   "outputs": [],
   "source": [
    "import cv2\n",
    "import numpy as np\n",
    "import math\n"
   ]
  },
  {
   "cell_type": "code",
   "execution_count": 4,
   "metadata": {},
   "outputs": [],
   "source": [
    "\n",
    "\n",
    "'''def clothesEdge(pose_points):\n",
    "    image = cv2.imread(\"images/testImage.png\")\n",
    "    if image is None:\n",
    "        print(\"Error: image not found\")\n",
    "        return\n",
    "    #blurs the image to make the edges more prominent\n",
    "    img_blur = cv2.GaussianBlur(image,(3,3), sigmaX=0, sigmaY=0)\n",
    "    edges = cv2.Canny(image=img_blur, threshold1=100, threshold2=200)\n",
    "\n",
    "    contours, _ = cv2.findContours(edges, cv2.RETR_EXTERNAL, cv2.CHAIN_APPROX_SIMPLE)\n",
    "    contour_points = []\n",
    "for contour in contours:\n",
    "        e = 0.02 * cv2.arcLength(contour, True)\n",
    "        simple_contour = cv2.approxPolyDP(contour, e, True)\n",
    "    \n",
    "    #pose_points = [left_s, right_s, left_h, right_h]\n",
    "    for point in pose_points:\n",
    "        distance = [np.linalg.norm(point - contour_point[0]) for contour_point in simple_contour]\n",
    "        closest_index = np.argmin(distance)\n",
    "        contour_points.append(simple_contour[closest_index][0])\n",
    "        closest_point = None\n",
    "        min_distance = float('inf')\n",
    "        for contour in contours:\n",
    "            e = 0.02 * cv2.arcLength(contour, True)\n",
    "            simple_contour = cv2.approxPolyDP(contour, e, True)\n",
    "\n",
    "            for contour_point in simple_contour:\n",
    "                distance = np.linalg.norm(point - contour_point[0])\n",
    "                if distance < min_distance:\n",
    "                    min_distance = distance\n",
    "                    closest_point = contour_point[0]\n",
    "\n",
    "        if closest_point is not None:\n",
    "            contour_points.append(closest_point)\n",
    "        x, y, w, h = cv2.boundingRect(contour)\n",
    "        contour_points.append((x,y)) #top left\n",
    "        contour_points.append((x+w,y)) #top right\n",
    "        contour_points.append((x+w,y+h)) #bottom right\n",
    "        contour_points.append((x,y+h)) #bottom left\n",
    "\n",
    "        for point in contour:\n",
    "            cv2.circle(image, (x,y), radius=2, color=(0, 255, 0), thickness=-1)\n",
    "\n",
    "            x, y = point[0]\n",
    "            #print(f\"Contour point:({x},{y})\")\n",
    "            label = f\"{x},{y}\"\n",
    "            cv2.putText(image, label, (x+5,y-5), cv2.FONT_HERSHEY_SIMPLEX, 0.3, (255,0,0), 1, cv2.LINE_AA)\n",
    "    contour_image = image.copy()\n",
    "    cv2.drawContours(contour_image,contours,-1, (0,255,0), 2)\n",
    "    \n",
    "    #cv2.imshow(\"Canny edge\", edges)\n",
    "    #cv2.imshow(\"Contours\", contour_image)\n",
    "    #cv2.waitKey(0)\n",
    "    #cv2.destroyAllWindows()\n",
    "    #print(contour_points)\n",
    "    return contour_points'''"
   ]
  },
  {
   "cell_type": "code",
   "execution_count": 5,
   "metadata": {},
   "outputs": [],
   "source": [
    "def rotation_angle(pose_points):\n",
    "    shoulder_center = np.mean([pose_points[0], pose_points[1]], axis=0)\n",
    "    hip_center = np.mean([pose_points[3], pose_points[2]], axis=0)\n",
    "\n",
    "    delta_y = shoulder_center[1]\n",
    "    delta_x = shoulder_center[0]\n",
    "\n",
    "    angle = np.degrees(np.arctan2(delta_y,delta_x))\n",
    "    return angle"
   ]
  },
  {
   "cell_type": "code",
   "execution_count": 19,
   "metadata": {},
   "outputs": [],
   "source": [
    "def mapClothes(pose_points, img):\n",
    "    \n",
    "    fixedRatio = 262/190 # for shirt width\n",
    "    heightToWidth = img.shape[0]/img.shape[1] #aspect ratio of image\n",
    "    width = int(math.fabs(pose_points[1][0]-pose_points[0][0])*fixedRatio)\n",
    "    height = int(width*heightToWidth)\n",
    "    x_offset = 40\n",
    "    src = np.array([[0,0],[width, 0], [width, height], [0,height]], dtype='float32')\n",
    "    dest = np.array([[pose_points[0][0]+x_offset, pose_points[0][1]], [pose_points[1][0]-x_offset,\\\n",
    "                    pose_points[1][1]], [pose_points[2][0] - 2*x_offset, pose_points[2][1]],\\\n",
    "                         [pose_points[3][0]+ 2*x_offset, pose_points[3][1]]],dtype='float32')\n",
    "    transform = cv2.getPerspectiveTransform(src,dest)\n",
    "    \n",
    "    '''print(f\"Original image shape: {img.shape}\")  # Print original shape\n",
    "    print(f\"Calculated width for resizing: {width}\")'''\n",
    "    angle = rotation_angle(pose_points)\n",
    "    center = img.shape[1]//2, img.shape[0]//2\n",
    "    scale = math.fabs(pose_points[1][0]-pose_points[0][0])/190\n",
    "    mat = cv2.getRotationMatrix2D(center, -angle, 1.0)\n",
    "    #img = cv2.warpAffine(img, mat, (img.shape[1], img.shape[0]))\n",
    "    img = cv2.resize(img, (width, height))\n",
    "    #print(f\"Resized image shape: {img.shape}\")\n",
    "    offset = [int(44*scale), int(48*scale)] #horizontal and vertical offsets\n",
    "    return img, transform\n",
    "    "
   ]
  },
  {
   "cell_type": "code",
   "execution_count": 18,
   "metadata": {},
   "outputs": [],
   "source": [
    "def main():\n",
    "    img = cv2.imread('images/testImage.png')\n",
    "    mapClothes([(340,220),(450,660),(220,320),(330,450)], img)\n",
    "if __name__ == \"__main__\":\n",
    "    main()"
   ]
  }
 ],
 "metadata": {
  "kernelspec": {
   "display_name": "env",
   "language": "python",
   "name": "python3"
  },
  "language_info": {
   "codemirror_mode": {
    "name": "ipython",
    "version": 3
   },
   "file_extension": ".py",
   "mimetype": "text/x-python",
   "name": "python",
   "nbconvert_exporter": "python",
   "pygments_lexer": "ipython3",
   "version": "3.11.9"
  }
 },
 "nbformat": 4,
 "nbformat_minor": 2
}
