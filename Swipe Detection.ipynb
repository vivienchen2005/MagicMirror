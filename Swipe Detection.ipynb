{
 "cells": [
  {
   "cell_type": "markdown",
   "metadata": {},
   "source": [
    "# 0. Install and Import Dependencies"
   ]
  },
  {
   "cell_type": "code",
   "execution_count": 39,
   "metadata": {},
   "outputs": [
    {
     "name": "stdout",
     "output_type": "stream",
     "text": [
      "Requirement already satisfied: mediapipe in c:\\users\\mertz\\onedrive\\desktop\\magicmirror\\myenv\\lib\\site-packages (0.10.14)\n",
      "Requirement already satisfied: opencv-python in c:\\users\\mertz\\onedrive\\desktop\\magicmirror\\myenv\\lib\\site-packages (4.10.0.84)\n",
      "Requirement already satisfied: absl-py in c:\\users\\mertz\\onedrive\\desktop\\magicmirror\\myenv\\lib\\site-packages (from mediapipe) (2.1.0)\n",
      "Requirement already satisfied: attrs>=19.1.0 in c:\\users\\mertz\\onedrive\\desktop\\magicmirror\\myenv\\lib\\site-packages (from mediapipe) (24.2.0)\n",
      "Requirement already satisfied: flatbuffers>=2.0 in c:\\users\\mertz\\onedrive\\desktop\\magicmirror\\myenv\\lib\\site-packages (from mediapipe) (24.3.25)\n",
      "Requirement already satisfied: jax in c:\\users\\mertz\\onedrive\\desktop\\magicmirror\\myenv\\lib\\site-packages (from mediapipe) (0.4.33)\n",
      "Requirement already satisfied: jaxlib in c:\\users\\mertz\\onedrive\\desktop\\magicmirror\\myenv\\lib\\site-packages (from mediapipe) (0.4.33)\n",
      "Requirement already satisfied: matplotlib in c:\\users\\mertz\\onedrive\\desktop\\magicmirror\\myenv\\lib\\site-packages (from mediapipe) (3.9.2)\n",
      "Requirement already satisfied: numpy in c:\\users\\mertz\\onedrive\\desktop\\magicmirror\\myenv\\lib\\site-packages (from mediapipe) (2.1.1)\n",
      "Requirement already satisfied: opencv-contrib-python in c:\\users\\mertz\\onedrive\\desktop\\magicmirror\\myenv\\lib\\site-packages (from mediapipe) (4.10.0.84)\n",
      "Requirement already satisfied: protobuf<5,>=4.25.3 in c:\\users\\mertz\\onedrive\\desktop\\magicmirror\\myenv\\lib\\site-packages (from mediapipe) (4.25.5)\n",
      "Requirement already satisfied: sounddevice>=0.4.4 in c:\\users\\mertz\\onedrive\\desktop\\magicmirror\\myenv\\lib\\site-packages (from mediapipe) (0.5.0)\n",
      "Requirement already satisfied: CFFI>=1.0 in c:\\users\\mertz\\onedrive\\desktop\\magicmirror\\myenv\\lib\\site-packages (from sounddevice>=0.4.4->mediapipe) (1.17.1)\n",
      "Requirement already satisfied: ml-dtypes>=0.2.0 in c:\\users\\mertz\\onedrive\\desktop\\magicmirror\\myenv\\lib\\site-packages (from jax->mediapipe) (0.5.0)\n",
      "Requirement already satisfied: opt-einsum in c:\\users\\mertz\\onedrive\\desktop\\magicmirror\\myenv\\lib\\site-packages (from jax->mediapipe) (3.4.0)\n",
      "Requirement already satisfied: scipy>=1.10 in c:\\users\\mertz\\onedrive\\desktop\\magicmirror\\myenv\\lib\\site-packages (from jax->mediapipe) (1.14.1)\n",
      "Requirement already satisfied: contourpy>=1.0.1 in c:\\users\\mertz\\onedrive\\desktop\\magicmirror\\myenv\\lib\\site-packages (from matplotlib->mediapipe) (1.3.0)\n",
      "Requirement already satisfied: cycler>=0.10 in c:\\users\\mertz\\onedrive\\desktop\\magicmirror\\myenv\\lib\\site-packages (from matplotlib->mediapipe) (0.12.1)\n",
      "Requirement already satisfied: fonttools>=4.22.0 in c:\\users\\mertz\\onedrive\\desktop\\magicmirror\\myenv\\lib\\site-packages (from matplotlib->mediapipe) (4.54.1)\n",
      "Requirement already satisfied: kiwisolver>=1.3.1 in c:\\users\\mertz\\onedrive\\desktop\\magicmirror\\myenv\\lib\\site-packages (from matplotlib->mediapipe) (1.4.7)\n",
      "Requirement already satisfied: packaging>=20.0 in c:\\users\\mertz\\onedrive\\desktop\\magicmirror\\myenv\\lib\\site-packages (from matplotlib->mediapipe) (24.1)\n",
      "Requirement already satisfied: pillow>=8 in c:\\users\\mertz\\onedrive\\desktop\\magicmirror\\myenv\\lib\\site-packages (from matplotlib->mediapipe) (10.4.0)\n",
      "Requirement already satisfied: pyparsing>=2.3.1 in c:\\users\\mertz\\onedrive\\desktop\\magicmirror\\myenv\\lib\\site-packages (from matplotlib->mediapipe) (3.1.4)\n",
      "Requirement already satisfied: python-dateutil>=2.7 in c:\\users\\mertz\\onedrive\\desktop\\magicmirror\\myenv\\lib\\site-packages (from matplotlib->mediapipe) (2.9.0.post0)\n",
      "Requirement already satisfied: pycparser in c:\\users\\mertz\\onedrive\\desktop\\magicmirror\\myenv\\lib\\site-packages (from CFFI>=1.0->sounddevice>=0.4.4->mediapipe) (2.22)\n",
      "Requirement already satisfied: six>=1.5 in c:\\users\\mertz\\onedrive\\desktop\\magicmirror\\myenv\\lib\\site-packages (from python-dateutil>=2.7->matplotlib->mediapipe) (1.16.0)\n"
     ]
    },
    {
     "name": "stderr",
     "output_type": "stream",
     "text": [
      "\n",
      "[notice] A new release of pip is available: 23.1.2 -> 24.2\n",
      "[notice] To update, run: python.exe -m pip install --upgrade pip\n"
     ]
    }
   ],
   "source": [
    "!pip install mediapipe opencv-python"
   ]
  },
  {
   "cell_type": "code",
   "execution_count": 40,
   "metadata": {},
   "outputs": [],
   "source": [
    "import cv2\n",
    "import mediapipe as mp\n",
    "import numpy as np\n",
    "import time\n",
    "from collections import deque\n",
    "mp_drawing = mp.solutions.drawing_utils\n",
    "mp_pose = mp.solutions.pose"
   ]
  },
  {
   "cell_type": "markdown",
   "metadata": {},
   "source": [
    "# 1. Swipe Detection"
   ]
  },
  {
   "cell_type": "code",
   "execution_count": 42,
   "metadata": {},
   "outputs": [],
   "source": [
    "def leftSwipeDetection(leftWristLocations):\n",
    "    return leftWristLocations[0][0] - leftWristLocations[-1][0] > 250\n",
    "\n",
    "def rightSwipeDetection(rightWristLocations):\n",
    "    return rightWristLocations[-1][0] - rightWristLocations[0][0] > 250"
   ]
  },
  {
   "cell_type": "code",
   "execution_count": 43,
   "metadata": {},
   "outputs": [],
   "source": [
    "leftWristLocations = deque(maxlen=10)\n",
    "rightWristLocations = deque(maxlen=10)"
   ]
  },
  {
   "cell_type": "code",
   "execution_count": 44,
   "metadata": {},
   "outputs": [],
   "source": [
    "cap = cv2.VideoCapture(0)\n",
    "\n",
    "last_left_swipe_time = 0\n",
    "last_right_swipe_time = 0\n",
    "swipe_delay = 1\n",
    "\n",
    "clothing_items = [\"Tank top\", \"Blouse\", \"Tshirt\", \"Crop top\", \"Long Sleeve\"]\n",
    "clothing_items_index = 0\n",
    "\n",
    "## Setup mediapipe instance\n",
    "with mp_pose.Pose(min_detection_confidence=0.5, min_tracking_confidence=0.5) as pose:\n",
    "    while cap.isOpened():\n",
    "        ret, frame = cap.read()\n",
    "        \n",
    "        # Recolor image to RGB\n",
    "        image = cv2.cvtColor(frame, cv2.COLOR_BGR2RGB)\n",
    "        image.flags.writeable = False\n",
    "      \n",
    "        # Make detection\n",
    "        results = pose.process(image)\n",
    "    \n",
    "        # Recolor back to BGR\n",
    "        image.flags.writeable = True\n",
    "        image = cv2.cvtColor(image, cv2.COLOR_RGB2BGR)\n",
    "        \n",
    "        # Extract landmarks\n",
    "        try:\n",
    "            landmarks = results.pose_landmarks.landmark\n",
    "            \n",
    "            # Get coordinates\n",
    "            left_wrist = [landmarks[mp_pose.PoseLandmark.LEFT_WRIST.value].x,landmarks[mp_pose.PoseLandmark.LEFT_WRIST.value].y]\n",
    "            right_wrist = [landmarks[mp_pose.PoseLandmark.RIGHT_WRIST.value].x,landmarks[mp_pose.PoseLandmark.RIGHT_WRIST.value].y]\n",
    "            \n",
    "            left_wrist_coords = tuple(np.multiply(left_wrist, [640, 480]).astype(int)) ## Normalizes Coordinates\n",
    "            right_wrist_coords = tuple(np.multiply(right_wrist, [640, 480]).astype(int)) ## Normalizes Coordinates\n",
    "\n",
    "            leftWristLocations.append(left_wrist_coords)\n",
    "            rightWristLocations.append(right_wrist_coords)\n",
    "            \n",
    "            current_time = time.time()\n",
    "\n",
    "            if leftSwipeDetection(leftWristLocations):\n",
    "                if current_time - last_left_swipe_time > swipe_delay:\n",
    "                    print(\"Swiped Right: index: \", clothing_items_index)\n",
    "                    last_left_swipe_time = current_time\n",
    "                    if clothing_items_index == 0:\n",
    "                        clothing_items_index = len(clothing_items) - 1\n",
    "                    else:\n",
    "                        clothing_items_index -= 1\n",
    "                \n",
    "            if rightSwipeDetection(rightWristLocations):\n",
    "                if current_time - last_right_swipe_time > swipe_delay:\n",
    "                    print(\"Swiped Left: index: \", clothing_items_index)\n",
    "                    last_right_swipe_time = current_time\n",
    "                    if clothing_items_index == len(clothing_items) - 1:\n",
    "                        clothing_items_index = 0\n",
    "                    else:\n",
    "                        clothing_items_index += 1\n",
    "\n",
    "            # Display wrist coordinates at the wrist location\n",
    "            cv2.putText(image, f\"Left Wrist: ({left_wrist_coords[0]}, {left_wrist_coords[1]})\", \n",
    "                        left_wrist_coords, \n",
    "                        cv2.FONT_HERSHEY_SIMPLEX, 0.5, (255, 255, 255), 2, cv2.LINE_AA)\n",
    "            \n",
    "            # Display wrist coordinates at the wrist location\n",
    "            cv2.putText(image, f\"Right Wrist: ({right_wrist_coords[0]}, {right_wrist_coords[1]})\", \n",
    "                        right_wrist_coords, \n",
    "                        cv2.FONT_HERSHEY_SIMPLEX, 0.5, (255, 255, 255), 2, cv2.LINE_AA)\n",
    "\n",
    "        except:\n",
    "            pass\n",
    "            \n",
    "        \n",
    "        # Draw a rectangle at the top of the screen for clothing item display\n",
    "        cv2.rectangle(image, (0, 0), (225, 73), (245, 117, 16), -1)\n",
    "\n",
    "        # Display clothing item name\n",
    "        cv2.putText(image, 'CLOTHING ITEM', (15, 12), \n",
    "                    cv2.FONT_HERSHEY_SIMPLEX, 0.5, (0, 0, 0), 1, cv2.LINE_AA)\n",
    "        \n",
    "        cv2.putText(image, clothing_items[clothing_items_index], \n",
    "                    (10, 60), \n",
    "                    cv2.FONT_HERSHEY_SIMPLEX, 2, (255, 255, 255), 2, cv2.LINE_AA)\n",
    "        \n",
    "        \n",
    "        # Render detections\n",
    "        mp_drawing.draw_landmarks(image, results.pose_landmarks, mp_pose.POSE_CONNECTIONS,\n",
    "                                mp_drawing.DrawingSpec(color=(245,117,66), thickness=2, circle_radius=2), \n",
    "                                mp_drawing.DrawingSpec(color=(245,66,230), thickness=2, circle_radius=2) \n",
    "                                 )               \n",
    "        \n",
    "        cv2.imshow('Mediapipe Feed', image)\n",
    "\n",
    "        if cv2.waitKey(10) & 0xFF == ord('q'):\n",
    "            break\n",
    "\n",
    "    cap.release()\n",
    "    cv2.destroyAllWindows()"
   ]
  }
 ],
 "metadata": {
  "kernelspec": {
   "display_name": "myenv",
   "language": "python",
   "name": "python3"
  },
  "language_info": {
   "codemirror_mode": {
    "name": "ipython",
    "version": 3
   },
   "file_extension": ".py",
   "mimetype": "text/x-python",
   "name": "python",
   "nbconvert_exporter": "python",
   "pygments_lexer": "ipython3",
   "version": "3.11.4"
  }
 },
 "nbformat": 4,
 "nbformat_minor": 2
}
